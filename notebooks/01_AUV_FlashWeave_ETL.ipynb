{
 "cells": [
  {
   "cell_type": "code",
   "execution_count": 13,
   "id": "cf6cbbbc",
   "metadata": {},
   "outputs": [],
   "source": [
    "import pandas as pd\n",
    "import numpy as np\n",
    "import os\n",
    "import re\n",
    "import subprocess as sp\n",
    "import sys"
   ]
  },
  {
   "cell_type": "code",
   "execution_count": 16,
   "id": "51fa316d-ebba-40e7-8412-464b4403e1f2",
   "metadata": {},
   "outputs": [],
   "source": [
    "os.makedirs('../data/cleaned', exist_ok=True)\n",
    "os.makedirs('../data/graph', exist_ok=True)\n",
    "os.makedirs('../data/edgelist', exist_ok=True)\n",
    "os.makedirs('../data/circlize', exist_ok=True)"
   ]
  },
  {
   "cell_type": "code",
   "execution_count": 2,
   "id": "76f81c16",
   "metadata": {},
   "outputs": [],
   "source": [
    "sixteenS_file = '../data/input/16S_AUV/NO-plastid-dada2-table.csv'\n",
    "eighteenS_file = '../data/input/18SV9_AUV/dada2-table.csv'\n",
    "meta_file = '../data/input/18SV9_AUV/230821_EH21_AUV_meta_with_dab.csv'\n",
    "id_map_outfile = '../data/cleaned/AUV_id_map.tsv'\n",
    "sixteenS_outfile = '../data/cleaned/AUV_sixteenS.tsv'\n",
    "eighteenS_outfile = '../data/cleaned/AUV_eighteenS_v9.tsv'\n",
    "meta_outfile = '../data/cleaned/AUV_metadata.tsv'"
   ]
  },
  {
   "cell_type": "code",
   "execution_count": 3,
   "id": "4e3d8799",
   "metadata": {},
   "outputs": [],
   "source": [
    "sixteenS = pd.read_csv(sixteenS_file)\n",
    "eighteenS = pd.read_csv(eighteenS_file)"
   ]
  },
  {
   "cell_type": "code",
   "execution_count": 4,
   "id": "34a47241",
   "metadata": {},
   "outputs": [],
   "source": [
    "meta = pd.read_csv(meta_file).sort_values(by='sample-id').reset_index(drop=True)"
   ]
  },
  {
   "cell_type": "code",
   "execution_count": 5,
   "id": "eb91f66a",
   "metadata": {},
   "outputs": [],
   "source": [
    "to_drop = meta['sample-id'][meta['sample_type'].str.contains('control', case=False, na=True)].tolist()\n",
    "to_drop = list(set(to_drop))"
   ]
  },
  {
   "cell_type": "code",
   "execution_count": 6,
   "id": "e87dc7a4",
   "metadata": {},
   "outputs": [],
   "source": [
    "meta = meta[~meta['sample-id'].isin(to_drop)].drop('replicate', axis=1)"
   ]
  },
  {
   "cell_type": "code",
   "execution_count": 7,
   "id": "bdc57550",
   "metadata": {},
   "outputs": [],
   "source": [
    "idxer = set(sixteenS.set_index('OTUID', drop=True).columns).intersection(\n",
    "        set(eighteenS.set_index('OTUID', drop=True).columns)).intersection(\n",
    "        set(meta['sample-id']))\n",
    "idxer = list(idxer)\n",
    "idxer.insert(0, 'OTUID')"
   ]
  },
  {
   "cell_type": "code",
   "execution_count": 8,
   "id": "ca50def9",
   "metadata": {},
   "outputs": [],
   "source": [
    "sixteenS = sixteenS.loc[:,idxer]\n",
    "eighteenS = eighteenS.loc[:,idxer]"
   ]
  },
  {
   "cell_type": "code",
   "execution_count": 9,
   "id": "beb3d3e3",
   "metadata": {},
   "outputs": [],
   "source": [
    "idxer.remove('OTUID')\n",
    "meta_filtered = meta[['sample-id', 'dabA_seriata_CPL', 'dabC_australis_CPL',\n",
    "                      'dabA_australis_CPL', 'dabD_australis_sumof3_CPL']].set_index('sample-id', drop=True).loc[idxer]"
   ]
  },
  {
   "cell_type": "code",
   "execution_count": 10,
   "id": "85697ed3",
   "metadata": {},
   "outputs": [],
   "source": [
    "def check_otus(df):# for each sample, compute Q3\n",
    "    #  Each OTU must be above the non-zero Q3 in at least 5 sample\n",
    "    q3s = []\n",
    "    for col in df.columns:\n",
    "        sample = df[col]\n",
    "        q3 = sample[sample >= 0].describe()['25%']\n",
    "        q3s.append(q3)\n",
    "    # for each OTU, check if value > Q3 in at least 5 samples\n",
    "    q3counts = []\n",
    "    for i, row in df.iterrows():\n",
    "        count = 0\n",
    "        for j, val in enumerate(row):\n",
    "            if val > q3s[j]:\n",
    "                count += 1\n",
    "        q3counts.append(count)\n",
    "    finalcounts = pd.Series(q3counts, index=df.index)\n",
    "    return finalcounts[finalcounts >= 5]\n",
    "    \n",
    "sixteenS_filtered = sixteenS.loc[check_otus(sixteenS.drop('OTUID', axis=1)).index.values]\n",
    "eighteenS_filtered = eighteenS.loc[check_otus(eighteenS.drop('OTUID', axis=1)).index.values]\n",
    "potus = pd.Series(sixteenS_filtered.index).apply(lambda x: 'potu_' + str(x)).values\n",
    "eotus = pd.Series(eighteenS_filtered.index).apply(lambda x: 'eotu_' + str(x)).values\n",
    "id_map = pd.DataFrame({'OTUID': sixteenS_filtered['OTUID'].values, 'short_id': potus})\n",
    "id_map = pd.concat([id_map, pd.DataFrame({'OTUID': eighteenS_filtered['OTUID'].values,\n",
    "                                          'short_id': eotus})])\n",
    "id_map.to_csv(id_map_outfile, sep='\\t', index=False)\n",
    "sixteenS_filtered = sixteenS_filtered.drop('OTUID', axis=1).T\n",
    "eighteenS_filtered = eighteenS_filtered.drop('OTUID', axis=1).T\n",
    "sixteenS_filtered.columns = potus\n",
    "eighteenS_filtered.columns = eotus\n",
    "sixteenS_filtered.to_csv(sixteenS_outfile, sep='\\t')\n",
    "eighteenS_filtered.to_csv(eighteenS_outfile, sep='\\t')\n",
    "meta_filtered.to_csv(meta_outfile, sep='\\t')"
   ]
  },
  {
   "cell_type": "code",
   "execution_count": 11,
   "id": "e5239474",
   "metadata": {},
   "outputs": [
    {
     "data": {
      "text/plain": [
       "1718"
      ]
     },
     "execution_count": 11,
     "metadata": {},
     "output_type": "execute_result"
    }
   ],
   "source": [
    "sixteen_cols = pd.read_csv(sixteenS_outfile, index_col=0, sep='\\t').columns\n",
    "eighteen_cols = pd.read_csv(eighteenS_outfile, index_col=0, sep='\\t').columns\n",
    "len(sixteen_cols) + len(eighteen_cols)"
   ]
  },
  {
   "cell_type": "markdown",
   "id": "801c9cd2-ac9d-4dcd-a863-6fac71f1cfd0",
   "metadata": {},
   "source": [
    "## Run FlashWeave"
   ]
  },
  {
   "cell_type": "code",
   "execution_count": 12,
   "id": "89a77ab4-f908-4265-952a-09b6b74f64a1",
   "metadata": {},
   "outputs": [
    {
     "name": "stdout",
     "output_type": "stream",
     "text": [
      "\n",
      "### Loading data ###\n",
      "\n",
      "### Normalizing ###\n",
      "\n",
      "Normalization\n",
      "\t-> multiple data sets provided, using separate normalization mode\n",
      "\n",
      "### Learning interactions ###\n",
      "\n",
      "Inferring network with FlashWeave - sensitive (conditional)\n",
      "\n",
      "\tRun information:\n",
      "\tsensitive - true\n",
      "\theterogeneous - false\n",
      "\tmax_k - 3\n",
      "\talpha - 0.01\n",
      "\tsparse - false\n",
      "\tworkers - 1\n",
      "\tOTUs - 1718\n",
      "\tMVs - 0\n",
      "\n",
      "Automatically setting 'n_obs_min' to 20 for enhanced reliability\n",
      "Computing univariate associations\n",
      "\n",
      "Univariate degree stats:\n",
      "Summary Stats:\n",
      "Length:         1718\n",
      "Missing Count:  0\n",
      "Mean:           23.717113\n",
      "Minimum:        0.000000\n",
      "1st Quartile:   3.000000\n",
      "Median:         18.000000\n",
      "3rd Quartile:   36.000000\n",
      "Maximum:        104.000000\n",
      "\n",
      "\n",
      "\n",
      "Starting conditioning search\n",
      "\n",
      "Preparing workers..\n",
      "\n",
      "Done. Starting inference..\n",
      "Starting convergence checks at 1490 edges.\n",
      "Latest convergence step change: 1.30749\n",
      "\n",
      "Postprocessing\n",
      "Complete\n",
      "\n",
      "Finished inference. Total time taken: 6.356s\n"
     ]
    },
    {
     "data": {
      "text/plain": [
       "CompletedProcess(args=['julia', 'src/run_flashweave_v9.jl', 'data/cleaned/AUV_sixteenS.tsv', 'data/cleaned/AUV_eighteenS_v9.tsv', 'data/cleaned/AUV_metadata.tsv', 'data/graph/AUV_network_output_v9.gml'], returncode=0)"
      ]
     },
     "execution_count": 12,
     "metadata": {},
     "output_type": "execute_result"
    }
   ],
   "source": [
    "sp.run(['julia', f'src/run_flashweave_v9.jl',\n",
    "        'data/cleaned/AUV_sixteenS.tsv',\n",
    "        'data/cleaned/AUV_eighteenS_v9.tsv',\n",
    "        'data/cleaned/AUV_metadata.tsv',\n",
    "        'data/graph/AUV_network_output_v9.gml'], cwd='..')"
   ]
  }
 ],
 "metadata": {
  "kernelspec": {
   "display_name": "Python 3 (ipykernel)",
   "language": "python",
   "name": "python3"
  },
  "language_info": {
   "codemirror_mode": {
    "name": "ipython",
    "version": 3
   },
   "file_extension": ".py",
   "mimetype": "text/x-python",
   "name": "python",
   "nbconvert_exporter": "python",
   "pygments_lexer": "ipython3",
   "version": "3.10.9"
  }
 },
 "nbformat": 4,
 "nbformat_minor": 5
}
