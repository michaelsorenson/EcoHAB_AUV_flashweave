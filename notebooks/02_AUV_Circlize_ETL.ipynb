{
 "cells": [
  {
   "cell_type": "code",
   "execution_count": 3,
   "id": "d1cc6f56-f5e9-47e0-a151-507976450843",
   "metadata": {},
   "outputs": [],
   "source": [
    "%load_ext autoreload\n",
    "%autoreload 2"
   ]
  },
  {
   "cell_type": "code",
   "execution_count": 27,
   "id": "7a1fc085",
   "metadata": {},
   "outputs": [],
   "source": [
    "import matplotlib.pyplot as plt\n",
    "import networkx as nx\n",
    "import numpy as np\n",
    "import pandas as pd\n",
    "import seaborn as sns\n",
    "import subprocess as sp\n",
    "import sys\n",
    "sys.path.insert(0, '..')\n",
    "\n",
    "from src import circlize_etl"
   ]
  },
  {
   "cell_type": "code",
   "execution_count": 7,
   "id": "cfdf576d",
   "metadata": {},
   "outputs": [
    {
     "data": {
      "text/html": [
       "<div>\n",
       "<style scoped>\n",
       "    .dataframe tbody tr th:only-of-type {\n",
       "        vertical-align: middle;\n",
       "    }\n",
       "\n",
       "    .dataframe tbody tr th {\n",
       "        vertical-align: top;\n",
       "    }\n",
       "\n",
       "    .dataframe thead th {\n",
       "        text-align: right;\n",
       "    }\n",
       "</style>\n",
       "<table border=\"1\" class=\"dataframe\">\n",
       "  <thead>\n",
       "    <tr style=\"text-align: right;\">\n",
       "      <th></th>\n",
       "      <th>OTUID</th>\n",
       "      <th>Taxonomy</th>\n",
       "    </tr>\n",
       "  </thead>\n",
       "  <tbody>\n",
       "    <tr>\n",
       "      <th>0</th>\n",
       "      <td>9ca38c3d39e04cb5b8df99612854db5a</td>\n",
       "      <td>Bacteria;Bacteroidota;Bacteroidia;Flavobacteri...</td>\n",
       "    </tr>\n",
       "    <tr>\n",
       "      <th>1</th>\n",
       "      <td>5a64f7f0dca0044d5382daaaa1c07302</td>\n",
       "      <td>Bacteria;Proteobacteria;Alphaproteobacteria;Rh...</td>\n",
       "    </tr>\n",
       "    <tr>\n",
       "      <th>2</th>\n",
       "      <td>b96ac4d2af2d09c41326188c8529716b</td>\n",
       "      <td>Bacteria;Proteobacteria;Gammaproteobacteria;Al...</td>\n",
       "    </tr>\n",
       "    <tr>\n",
       "      <th>3</th>\n",
       "      <td>0db63e23987f0ca4d689e7ae0f114ab2</td>\n",
       "      <td>Bacteria;Proteobacteria;Alphaproteobacteria</td>\n",
       "    </tr>\n",
       "    <tr>\n",
       "      <th>4</th>\n",
       "      <td>dc8bc8d09bf3fcb0f7010677c5c7022e</td>\n",
       "      <td>Bacteria;Proteobacteria;Alphaproteobacteria;Rh...</td>\n",
       "    </tr>\n",
       "  </tbody>\n",
       "</table>\n",
       "</div>"
      ],
      "text/plain": [
       "                              OTUID  \\\n",
       "0  9ca38c3d39e04cb5b8df99612854db5a   \n",
       "1  5a64f7f0dca0044d5382daaaa1c07302   \n",
       "2  b96ac4d2af2d09c41326188c8529716b   \n",
       "3  0db63e23987f0ca4d689e7ae0f114ab2   \n",
       "4  dc8bc8d09bf3fcb0f7010677c5c7022e   \n",
       "\n",
       "                                            Taxonomy  \n",
       "0  Bacteria;Bacteroidota;Bacteroidia;Flavobacteri...  \n",
       "1  Bacteria;Proteobacteria;Alphaproteobacteria;Rh...  \n",
       "2  Bacteria;Proteobacteria;Gammaproteobacteria;Al...  \n",
       "3        Bacteria;Proteobacteria;Alphaproteobacteria  \n",
       "4  Bacteria;Proteobacteria;Alphaproteobacteria;Rh...  "
      ]
     },
     "execution_count": 7,
     "metadata": {},
     "output_type": "execute_result"
    }
   ],
   "source": [
    "sixteenS_tax = pd.read_csv('../data/input/16S_AUV/taxonomy.csv')\n",
    "sixteenS = pd.read_csv('../data/input/16S_AUV/NO-plastid-dada2-table.csv')\n",
    "sixteenS_tax = sixteenS.merge(sixteenS_tax, on='OTUID')\n",
    "sixteenS_tax['Taxonomy'] = sixteenS_tax['Domain'].str.cat(\n",
    "    sixteenS_tax[['Phylum', 'Class', 'Order', 'Family', 'Genus', 'Species']].astype(str), sep=\";\").str.replace(\n",
    "    '(;nan)*', '', regex=True\n",
    ")\n",
    "sixteenS_tax = sixteenS_tax[['OTUID', 'Taxonomy']]\n",
    "sixteenS_tax.head(5)"
   ]
  },
  {
   "cell_type": "code",
   "execution_count": 8,
   "id": "4c274696",
   "metadata": {},
   "outputs": [
    {
     "data": {
      "text/html": [
       "<div>\n",
       "<style scoped>\n",
       "    .dataframe tbody tr th:only-of-type {\n",
       "        vertical-align: middle;\n",
       "    }\n",
       "\n",
       "    .dataframe tbody tr th {\n",
       "        vertical-align: top;\n",
       "    }\n",
       "\n",
       "    .dataframe thead th {\n",
       "        text-align: right;\n",
       "    }\n",
       "</style>\n",
       "<table border=\"1\" class=\"dataframe\">\n",
       "  <thead>\n",
       "    <tr style=\"text-align: right;\">\n",
       "      <th></th>\n",
       "      <th>OTUID</th>\n",
       "      <th>Taxonomy</th>\n",
       "    </tr>\n",
       "  </thead>\n",
       "  <tbody>\n",
       "    <tr>\n",
       "      <th>0</th>\n",
       "      <td>b183e6fbfef6e343cb656326c468382c</td>\n",
       "      <td>Eukaryota;Stramenopiles;Ochrophyta;Bacillariop...</td>\n",
       "    </tr>\n",
       "    <tr>\n",
       "      <th>1</th>\n",
       "      <td>38b73295285fc2e17a8f6915533541cf</td>\n",
       "      <td>Eukaryota;Hacrobia;Haptophyta;Prymnesiophyceae...</td>\n",
       "    </tr>\n",
       "    <tr>\n",
       "      <th>2</th>\n",
       "      <td>f103458f35af71ff3b14aa6479ee8408</td>\n",
       "      <td>Eukaryota;Alveolata;Dinoflagellata;Dinophyceae...</td>\n",
       "    </tr>\n",
       "    <tr>\n",
       "      <th>3</th>\n",
       "      <td>6d2848220b25d52137b36be6a85c69d9</td>\n",
       "      <td>Eukaryota;Stramenopiles;Ochrophyta;Bacillariop...</td>\n",
       "    </tr>\n",
       "    <tr>\n",
       "      <th>4</th>\n",
       "      <td>43fc0f0172e7aaac61d17259daa5beb4</td>\n",
       "      <td>Eukaryota;Opisthokonta;Metazoa;Arthropoda;Crus...</td>\n",
       "    </tr>\n",
       "  </tbody>\n",
       "</table>\n",
       "</div>"
      ],
      "text/plain": [
       "                              OTUID  \\\n",
       "0  b183e6fbfef6e343cb656326c468382c   \n",
       "1  38b73295285fc2e17a8f6915533541cf   \n",
       "2  f103458f35af71ff3b14aa6479ee8408   \n",
       "3  6d2848220b25d52137b36be6a85c69d9   \n",
       "4  43fc0f0172e7aaac61d17259daa5beb4   \n",
       "\n",
       "                                            Taxonomy  \n",
       "0  Eukaryota;Stramenopiles;Ochrophyta;Bacillariop...  \n",
       "1  Eukaryota;Hacrobia;Haptophyta;Prymnesiophyceae...  \n",
       "2  Eukaryota;Alveolata;Dinoflagellata;Dinophyceae...  \n",
       "3  Eukaryota;Stramenopiles;Ochrophyta;Bacillariop...  \n",
       "4  Eukaryota;Opisthokonta;Metazoa;Arthropoda;Crus...  "
      ]
     },
     "execution_count": 8,
     "metadata": {},
     "output_type": "execute_result"
    }
   ],
   "source": [
    "eighteenS_tax = pd.read_csv('../data/input/18SV9_AUV/taxonomy_AUV18SV9.csv')\n",
    "eighteenS = pd.read_csv('../data/input/18SV9_AUV/dada2-table.csv')\n",
    "eighteenS_tax = eighteenS.merge(eighteenS_tax, on='OTUID')[['OTUID', 'Domain', 'Kingdom', 'Phylum', 'Class', 'Order', 'Family', 'Genus', 'Species']]\n",
    "eighteenS_tax['Taxonomy'] = eighteenS_tax['Domain'].str.cat(\n",
    "    eighteenS_tax[['Kingdom', 'Phylum', 'Class', 'Order', 'Family', 'Genus', 'Species']].astype(str), sep=\";\").str.replace(\n",
    "    '(;nan)*', '', regex=True\n",
    ")\n",
    "eighteenS_tax = eighteenS_tax[['OTUID', 'Taxonomy']]\n",
    "eighteenS_tax.head(5)"
   ]
  },
  {
   "cell_type": "markdown",
   "id": "01d5f591",
   "metadata": {},
   "source": [
    "## Network with 18S v9\n"
   ]
  },
  {
   "cell_type": "code",
   "execution_count": 11,
   "id": "0db3864a-71a1-4a5d-bf58-117fdcce3ca1",
   "metadata": {},
   "outputs": [
    {
     "data": {
      "text/plain": [
       "1718"
      ]
     },
     "execution_count": 11,
     "metadata": {},
     "output_type": "execute_result"
    }
   ],
   "source": [
    "gph = nx.read_gml('../data/graph/AUV_network_output_v9.gml')\n",
    "len(gph.nodes)"
   ]
  },
  {
   "cell_type": "markdown",
   "id": "b4d03344-b9cc-4407-9f28-2753829c47e1",
   "metadata": {},
   "source": [
    "### Pseudo-nitzschia"
   ]
  },
  {
   "cell_type": "code",
   "execution_count": 17,
   "id": "27d71f31",
   "metadata": {},
   "outputs": [],
   "source": [
    "edgelist = circlize_etl.get_edgelist(sixteenS_tax, eighteenS_tax, '../data/graph/AUV_network_output_v9.gml')\n",
    "edgelist.to_csv('../data/edgelist/AUV_network_output_v9_edgelist.csv', index=False)"
   ]
  },
  {
   "cell_type": "code",
   "execution_count": 18,
   "id": "38795844",
   "metadata": {},
   "outputs": [],
   "source": [
    "edgelist[edgelist['node1Taxonomy'].str.contains('Pseudo-nitzschia') | \n",
    "         edgelist['node2Taxonomy'].str.contains('Pseudo-nitzschia')]\\\n",
    "        .to_csv('../data/edgelist/AUV_network_v9_edgelist_pseudo-nitzschia.csv', index=False)"
   ]
  },
  {
   "cell_type": "code",
   "execution_count": 21,
   "id": "d00c4775",
   "metadata": {},
   "outputs": [],
   "source": [
    "auv_v9_focus_edges_df = circlize_etl.circlize_etl(sixteenS_tax, eighteenS_tax,\n",
    "                                                  '../data/graph/AUV_network_output_v9.gml',\n",
    "                                                  'Pseudo-nitzschia', 20)"
   ]
  },
  {
   "cell_type": "code",
   "execution_count": 22,
   "id": "70dc4c87",
   "metadata": {},
   "outputs": [],
   "source": [
    "auv_v9_focus_edges_df.to_csv('../data/circlize/AUV_network_v9_circlize_edgelist_pseudo-nitzschia.csv', index=False)"
   ]
  },
  {
   "cell_type": "markdown",
   "id": "2d1e1d01",
   "metadata": {},
   "source": [
    "### Bacillariophyta"
   ]
  },
  {
   "cell_type": "code",
   "execution_count": 23,
   "id": "e65efdfc",
   "metadata": {},
   "outputs": [],
   "source": [
    "auv_v9_bacillariophyta_df = circlize_etl.circlize_etl(sixteenS_tax, eighteenS_tax,\n",
    "                                                      '../data/graph/AUV_network_output_v9.gml',\n",
    "                                                      'Bacillariophyta', 20)"
   ]
  },
  {
   "cell_type": "code",
   "execution_count": 25,
   "id": "bc79ada2-09ba-409b-82b7-ba43dda339ec",
   "metadata": {},
   "outputs": [],
   "source": [
    "edgelist[edgelist['node1Taxonomy'].str.contains('Pseudo-nitzschia') | \n",
    "         edgelist['node2Taxonomy'].str.contains('Pseudo-nitzschia')]\\\n",
    "        .to_csv('../data/edgelist/AUV_network_v9_edgelist_bacillariophyta.csv', index=False)"
   ]
  },
  {
   "cell_type": "code",
   "execution_count": 26,
   "id": "cf796b94",
   "metadata": {},
   "outputs": [],
   "source": [
    "auv_v9_bacillariophyta_df.to_csv('../data/circlize/AUV_network_v9_circlize_edgelist_bacillariophyta.csv', index=False)"
   ]
  },
  {
   "cell_type": "markdown",
   "id": "9e17fccb-a3d5-4968-a0d1-4f241263c6f1",
   "metadata": {},
   "source": [
    "## Run circlize in R"
   ]
  },
  {
   "cell_type": "markdown",
   "id": "6b339c8b-9dac-4ac4-a352-f9d0e97f9583",
   "metadata": {},
   "source": [
    "#### Pseudo-nitzschia"
   ]
  },
  {
   "cell_type": "code",
   "execution_count": 31,
   "id": "40f49deb-a181-4688-bd0d-ee248f67d94c",
   "metadata": {},
   "outputs": [
    {
     "name": "stderr",
     "output_type": "stream",
     "text": [
      "========================================\n",
      "circlize version 0.4.15\n",
      "CRAN page: https://cran.r-project.org/package=circlize\n",
      "Github page: https://github.com/jokergoo/circlize\n",
      "Documentation: https://jokergoo.github.io/circlize_book/book/\n",
      "\n",
      "If you use it in published research, please cite:\n",
      "Gu, Z. circlize implements and enhances circular visualization\n",
      "  in R. Bioinformatics 2014.\n",
      "\n",
      "This message can be suppressed by:\n",
      "  suppressPackageStartupMessages(library(circlize))\n",
      "========================================\n",
      "\n"
     ]
    },
    {
     "name": "stdout",
     "output_type": "stream",
     "text": [
      "[1] \"Command line arguments: [Input Edgelist .csv] [Output Circos Positive .png] [Output Circos Negative .png]\"\n",
      "[1] \"data/circlize/AUV_network_v9_circlize_edgelist_pseudo-nitzschia.csv plots/circos/AUV_network_v9_pseudo-nitzschia_circos_positive.png plots/circos/AUV_network_v9_pseudo-nitzschia_circos_negative.png\"\n",
      "[1] \"Building circos plot with  9  classes\"\n",
      "null device \n",
      "          1 \n",
      "[1] \"Building circos plot with  9  classes\"\n",
      "null device \n",
      "          1 \n"
     ]
    },
    {
     "data": {
      "text/plain": [
       "CompletedProcess(args=['Rscript', 'src/circlize_plot.R', 'data/circlize/AUV_network_v9_circlize_edgelist_pseudo-nitzschia.csv', 'plots/circos/AUV_network_v9_pseudo-nitzschia_circos_positive.png', 'plots/circos/AUV_network_v9_pseudo-nitzschia_circos_negative.png'], returncode=0)"
      ]
     },
     "execution_count": 31,
     "metadata": {},
     "output_type": "execute_result"
    }
   ],
   "source": [
    "sp.run(['Rscript', 'src/circlize_plot.R', 'data/circlize/AUV_network_v9_circlize_edgelist_pseudo-nitzschia.csv',\n",
    "        'plots/circos/AUV_network_v9_pseudo-nitzschia_circos_positive.png',\n",
    "        'plots/circos/AUV_network_v9_pseudo-nitzschia_circos_negative.png'],\n",
    "       cwd='..')"
   ]
  },
  {
   "cell_type": "markdown",
   "id": "b4086bd0-f0a3-4452-b0f8-85326e64b2c2",
   "metadata": {},
   "source": [
    "#### Bacillariophyta"
   ]
  },
  {
   "cell_type": "code",
   "execution_count": 35,
   "id": "9134ffe7-b364-407a-b92e-192a99b8d98a",
   "metadata": {},
   "outputs": [
    {
     "name": "stderr",
     "output_type": "stream",
     "text": [
      "========================================\n",
      "circlize version 0.4.15\n",
      "CRAN page: https://cran.r-project.org/package=circlize\n",
      "Github page: https://github.com/jokergoo/circlize\n",
      "Documentation: https://jokergoo.github.io/circlize_book/book/\n",
      "\n",
      "If you use it in published research, please cite:\n",
      "Gu, Z. circlize implements and enhances circular visualization\n",
      "  in R. Bioinformatics 2014.\n",
      "\n",
      "This message can be suppressed by:\n",
      "  suppressPackageStartupMessages(library(circlize))\n",
      "========================================\n",
      "\n"
     ]
    },
    {
     "name": "stdout",
     "output_type": "stream",
     "text": [
      "[1] \"Command line arguments: [Input Edgelist .csv] [Output Circos Positive .png] [Output Circos Negative .png]\"\n",
      "[1] \"data/circlize/AUV_network_v9_circlize_edgelist_bacillariophyta.csv plots/circos/AUV_network_v9_bacillariophyta_circos_positive.png plots/circos/AUV_network_v9_bacillariophyta_circos_negative.png\"\n",
      "[1] \"Building circos plot with  20  classes\"\n",
      "null device \n",
      "          1 \n",
      "[1] \"Building circos plot with  20  classes\"\n",
      "null device \n",
      "          1 \n"
     ]
    },
    {
     "data": {
      "text/plain": [
       "CompletedProcess(args=['Rscript', 'src/circlize_plot.R', 'data/circlize/AUV_network_v9_circlize_edgelist_bacillariophyta.csv', 'plots/circos/AUV_network_v9_bacillariophyta_circos_positive.png', 'plots/circos/AUV_network_v9_bacillariophyta_circos_negative.png'], returncode=0)"
      ]
     },
     "execution_count": 35,
     "metadata": {},
     "output_type": "execute_result"
    }
   ],
   "source": [
    "sp.run(['Rscript', 'src/circlize_plot.R', 'data/circlize/AUV_network_v9_circlize_edgelist_bacillariophyta.csv',\n",
    "        'plots/circos/AUV_network_v9_bacillariophyta_circos_positive.png',\n",
    "        'plots/circos/AUV_network_v9_bacillariophyta_circos_negative.png'],\n",
    "       cwd='..')"
   ]
  },
  {
   "cell_type": "code",
   "execution_count": null,
   "id": "80fb1e63-a5d3-48f3-a6c0-7466801f8518",
   "metadata": {},
   "outputs": [],
   "source": []
  }
 ],
 "metadata": {
  "kernelspec": {
   "display_name": "Python 3 (ipykernel)",
   "language": "python",
   "name": "python3"
  },
  "language_info": {
   "codemirror_mode": {
    "name": "ipython",
    "version": 3
   },
   "file_extension": ".py",
   "mimetype": "text/x-python",
   "name": "python",
   "nbconvert_exporter": "python",
   "pygments_lexer": "ipython3",
   "version": "3.10.9"
  }
 },
 "nbformat": 4,
 "nbformat_minor": 5
}
